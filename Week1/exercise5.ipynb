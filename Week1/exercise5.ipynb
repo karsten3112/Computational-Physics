{
 "cells": [
  {
   "cell_type": "code",
   "execution_count": 255,
   "metadata": {},
   "outputs": [],
   "source": [
    "import matplotlib.pyplot as plt\n",
    "from matplotlib import animation\n",
    "import numpy as np\n",
    "from scipy.integrate import solve_ivp\n",
    "from scipy.optimize import fsolve\n",
    "from scipy.integrate import quad\n",
    "plt.rc('animation', html='jshtml')"
   ]
  },
  {
   "cell_type": "code",
   "execution_count": 265,
   "metadata": {},
   "outputs": [],
   "source": [
    "class Box():\n",
    "    def __init__(self, y, dydx, qinit, times) -> None:\n",
    "        self.qs = {}\n",
    "        self.t_stored = []\n",
    "        self.qinit = qinit.copy()\n",
    "        self.y = y\n",
    "        self.dydx = dydx\n",
    "        self.times = times.copy()\n",
    "        self.drawing_elements = {}\n",
    "        self.dqdt = None\n",
    "        self.axs_added = 0\n",
    "        self.col = \"C0\"\n",
    "\n",
    "    def solve_ode(self, t):\n",
    "        if self.dqdt == None:\n",
    "            raise Exception(\"No differential equation has been supplied yet\")\n",
    "        #if self.qinit == None:\n",
    "        #    raise Exception(\"No initial conditions have been supplied\")\n",
    "        \n",
    "        trange = [0.0, t]\n",
    "        deltat = 0.05\n",
    "        t_eval = np.arange(trange[0], trange[1]+deltat, deltat)\n",
    "        my_sol = solve_ivp(self.dqdt, trange, self.qinit, t_eval=t_eval)\n",
    "        self.t_stored.append(my_sol.t[-1])\n",
    "        for i, sol in enumerate(my_sol.y):\n",
    "            if f\"q{i}\" in self.qs:\n",
    "                self.qs[f\"q{i}\"] += sol[-1]\n",
    "            else:\n",
    "                self.qs[f\"q{i}\"] = [sol[-1]]\n",
    "\n",
    "    def update_plot_elements(self, ax, t):\n",
    "        coord = self.drawing_elements[ax][0]\n",
    "        if coord == \"q0\":\n",
    "            if len(self.drawing_elements[ax]) == 1:\n",
    "                ball = ax.plot(self.qinit[0], self.y(self.qinit[0]), 'o', color=self.col, ms=7, markeredgecolor=\"k\")[0]\n",
    "                self.drawing_elements[ax].append(ball)\n",
    "            else:\n",
    "                print(\"HEJ\")\n",
    "                pass\n",
    "                #self.drawing_elements[ax][1].set_data(self.qs[\"q0\"][-1], self.y(self.qs[\"q0\"][-1]))\n",
    "        if coord == \"q1\":\n",
    "            if len(self.drawing_elements[ax]) == 1:\n",
    "                pass\n",
    "\n",
    "    def draw(self, ax, t):\n",
    "        if t in self.times:\n",
    "            if ax in self.drawing_elements:\n",
    "                pass\n",
    "            else:\n",
    "                self.drawing_elements[ax] = [f\"q{self.axs_added}\"]\n",
    "                self.axs_added+=1\n",
    "            \n",
    "            if len(self.qs) == 0:\n",
    "                self.solve_ode(t=t)\n",
    "                self.update_plot_elements(ax=ax, t=t)\n",
    "            else:    \n",
    "                if t in self.t_stored:\n",
    "                    print(\"JEK\")\n",
    "                    #pass\n",
    "                    self.update_plot_elements(ax=ax, t=t)\n",
    "                else:\n",
    "                    self.solve_ode(t=t)\n",
    "                    self.update_plot_elements(ax=ax, t=t)\n",
    "        else:\n",
    "            raise Exception(\"t is not within the specified times, so will not be calculated\")\n",
    "        \n",
    "        return self.drawing_elements[ax][1::]"
   ]
  },
  {
   "cell_type": "code",
   "execution_count": 266,
   "metadata": {},
   "outputs": [],
   "source": [
    "def dqdt(t, q, y_x, dy_dx, y0=22.5, g=9.8):\n",
    "    x = q[0]\n",
    "    t1 = np.sqrt(2.0*g)*np.sqrt(y0-y_x(x))\n",
    "    t2 = 1.0/np.sqrt(1+dy_dx(x)**2)\n",
    "    return [t1*t2, t1]\n",
    "\n",
    "def lin_ramp(x, y0=22.5-0.01, width=30.0):\n",
    "    a = -y0/width\n",
    "    return a*x + y0\n",
    "\n",
    "def lin_ramp_slope(x, y0=22.5-0.01, width=30.0):\n",
    "    return -y0/width\n",
    "\n",
    "times = np.arange(1.0, 3.0, 1.0)\n",
    "qinit = np.array([0.0,0.0])\n",
    "box = Box(y=lin_ramp, dydx=lin_ramp_slope, qinit=qinit, times=times)\n",
    "box.dqdt = lambda t, q: dqdt(t, q, y_x=lin_ramp, dy_dx=lin_ramp_slope)"
   ]
  },
  {
   "cell_type": "code",
   "execution_count": 267,
   "metadata": {},
   "outputs": [
    {
     "data": {
      "image/png": "[encoded data removed]",
      "text/plain": [
       "<Figure size 500x500 with 1 Axes>"
      ]
     },
     "metadata": {},
     "output_type": "display_data"
    }
   ],
   "source": [
    "fig, ax = plt.subplots(figsize=(5,5))"
   ]
  },
  {
   "cell_type": "code",
   "execution_count": 268,
   "metadata": {},
   "outputs": [
    {
     "name": "stdout",
     "output_type": "stream",
     "text": [
      "JEK\n",
      "HEJ\n"
     ]
    }
   ],
   "source": [
    "ax.set_xlim([0.0, 14.0])\n",
    "ax.set_ylim([0.0, 25.0])\n",
    "for time in times:\n",
    "    box.draw(ax=ax,t=2.0)"
   ]
  },
  {
   "cell_type": "code",
   "execution_count": 270,
   "metadata": {},
   "outputs": [
    {
     "data": {
      "text/plain": [
       "{'q0': [10.115786589994416], 'q1': [12.64271036795899]}"
      ]
     },
     "execution_count": 270,
     "metadata": {},
     "output_type": "execute_result"
    }
   ],
   "source": [
    "box.t_stored\n",
    "box.qs"
   ]
  },
  {
   "cell_type": "code",
   "execution_count": 253,
   "metadata": {},
   "outputs": [
    {
     "name": "stdout",
     "output_type": "stream",
     "text": [
      "JEK\n"
     ]
    },
    {
     "data": {
      "text/plain": [
       "[]"
      ]
     },
     "execution_count": 253,
     "metadata": {},
     "output_type": "execute_result"
    }
   ],
   "source": [
    "box.draw(ax=ax, t=2.0)"
   ]
  },
  {
   "cell_type": "code",
   "execution_count": 254,
   "metadata": {},
   "outputs": [
    {
     "data": {
      "image/png": "[encoded data removed]",
      "text/plain": [
       "<Figure size 500x500 with 1 Axes>"
      ]
     },
     "execution_count": 254,
     "metadata": {},
     "output_type": "execute_result"
    }
   ],
   "source": [
    "fig"
   ]
  },
  {
   "cell_type": "code",
   "execution_count": null,
   "metadata": {},
   "outputs": [],
   "source": []
  }
 ],
 "metadata": {
  "kernelspec": {
   "display_name": "base",
   "language": "python",
   "name": "python3"
  },
  "language_info": {
   "codemirror_mode": {
    "name": "ipython",
    "version": 3
   },
   "file_extension": ".py",
   "mimetype": "text/x-python",
   "name": "python",
   "nbconvert_exporter": "python",
   "pygments_lexer": "ipython3",
   "version": "3.11.3"
  }
 },
 "nbformat": 4,
 "nbformat_minor": 2
}
