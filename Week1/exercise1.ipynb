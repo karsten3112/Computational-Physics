{
 "cells": [
  {
   "cell_type": "markdown",
   "metadata": {},
   "source": [
    "# Exercise 1"
   ]
  },
  {
   "cell_type": "code",
   "execution_count": null,
   "metadata": {},
   "outputs": [],
   "source": [
    "#%matplotlib ipympl\n",
    "import matplotlib.pyplot as plt\n",
    "from matplotlib import animation\n",
    "import numpy as np\n",
    "\n",
    "plt.rc('animation', html='jshtml')"
   ]
  },
  {
   "cell_type": "markdown",
   "metadata": {},
   "source": [
    "## Random Walkers in Numpy - 7.2, a, b"
   ]
  },
  {
   "cell_type": "code",
   "execution_count": null,
   "metadata": {},
   "outputs": [],
   "source": [
    "N = 200\n",
    "P0 = np.zeros(shape=(N,2))"
   ]
  },
  {
   "cell_type": "code",
   "execution_count": null,
   "metadata": {},
   "outputs": [],
   "source": [
    "def add_deltaP(P0):\n",
    "    deltaP = np.zeros(shape=(len(P0),2))\n",
    "    vs = 2.0*np.pi*np.random.rand(len(P0))\n",
    "    deltaP[:,0]+=np.cos(vs) \n",
    "    deltaP[:,1]+=np.sin(vs)\n",
    "    return P0 + deltaP"
   ]
  },
  {
   "cell_type": "code",
   "execution_count": null,
   "metadata": {},
   "outputs": [],
   "source": [
    "fig, axs = plt.subplots(1,2, figsize=(10,6))\n",
    "\n",
    "for i, ax in enumerate(axs):\n",
    "    ax.set_aspect(\"equal\")\n",
    "    if i == 0:\n",
    "        P1 = add_deltaP(P0=P0)\n",
    "        ax.plot([P0[:,0], P1[:,0]],[P0[:,1], P1[:,1]])\n",
    "    if i == 1:\n",
    "        P1 = P0\n",
    "        for n in range(2):\n",
    "            P2 = add_deltaP(P0=P1)\n",
    "            ax.plot([P1[:,0], P2[:,0]],[P1[:,1], P2[:,1]])\n",
    "            P1 = P2"
   ]
  },
  {
   "cell_type": "markdown",
   "metadata": {},
   "source": [
    "## 7.2 & 7.3 - Both scatterplot and $d_{rms}$"
   ]
  },
  {
   "cell_type": "code",
   "execution_count": null,
   "metadata": {},
   "outputs": [],
   "source": [
    "def get_drms(P0):\n",
    "    d_2 = np.linalg.norm(P0, axis=1)**2\n",
    "    return np.sqrt(np.mean(d_2))\n",
    "\n",
    "def walk_steps(P0, steps=100):\n",
    "    d_rms = np.zeros(steps)\n",
    "    P1 = P0\n",
    "    for i in range(steps):\n",
    "        P2 = add_deltaP(P0=P1)\n",
    "        d_rms[i] = get_drms(P0=P2)\n",
    "        P1 = P2\n",
    "    return P1, d_rms\n"
   ]
  },
  {
   "cell_type": "code",
   "execution_count": null,
   "metadata": {},
   "outputs": [],
   "source": [
    "P, d_rms = walk_steps(P0=P0, steps=200)\n",
    "fig, axs = plt.subplots(1,2, figsize=(10,6))\n",
    "for ax in axs:\n",
    "    ax.grid()\n",
    "axs[0].scatter(P[:,0], P[:,1])\n",
    "xs= np.log10(np.linspace(1, len(d_rms), len(d_rms)))\n",
    "axs[1].plot(xs, np.log10(d_rms))"
   ]
  },
  {
   "cell_type": "markdown",
   "metadata": {},
   "source": [
    "## 7.4 - Animation"
   ]
  },
  {
   "cell_type": "code",
   "execution_count": null,
   "metadata": {},
   "outputs": [],
   "source": [
    "fig, ax = plt.subplots(figsize=(4,4))\n",
    "ax.grid()\n",
    "\n",
    "N = 200\n",
    "P0 = np.zeros(shape=(N, 2))\n",
    "\n",
    "my_colors = [\"red\", \"green\", \"orange\"]\n",
    "\n",
    "colors = []\n",
    "for i in range(len(P0) - len(my_colors)):\n",
    "    colors.append(\"C0\")\n",
    "colors+=my_colors\n",
    "ax.set_xlim([-10, 10])\n",
    "ax.set_ylim([-10,10])\n",
    "points = ax.scatter(P0[:,0], P0[:,1], c=colors)"
   ]
  },
  {
   "cell_type": "code",
   "execution_count": null,
   "metadata": {},
   "outputs": [],
   "source": [
    "N_anim = 60\n",
    "\n",
    "anim_list = [P0]\n",
    "P1 = P0\n",
    "for i in range(N_anim - 1):\n",
    "    if i == 0:\n",
    "        P1, _ = walk_steps(P0=P0, steps=1)\n",
    "    else:\n",
    "        P1, _ = walk_steps(P0=P1, steps=1)\n",
    "    anim_list.append(P1)\n",
    "\n",
    "def update(i):\n",
    "    points.set_offsets(anim_list[i])\n",
    "    return [points]"
   ]
  },
  {
   "cell_type": "code",
   "execution_count": null,
   "metadata": {},
   "outputs": [],
   "source": [
    "anim = animation.FuncAnimation(fig,\n",
    "                               update,\n",
    "                               frames=N_anim,\n",
    "                               interval=75,\n",
    "                               blit=True)\n",
    "anim"
   ]
  },
  {
   "cell_type": "markdown",
   "metadata": {},
   "source": [
    "## 7.5 - Challenge"
   ]
  }
 ],
 "metadata": {
  "kernelspec": {
   "display_name": "base",
   "language": "python",
   "name": "python3"
  },
  "language_info": {
   "codemirror_mode": {
    "name": "ipython",
    "version": 3
   },
   "file_extension": ".py",
   "mimetype": "text/x-python",
   "name": "python",
   "nbconvert_exporter": "python",
   "pygments_lexer": "ipython3",
   "version": "3.11.3"
  }
 },
 "nbformat": 4,
 "nbformat_minor": 2
}
