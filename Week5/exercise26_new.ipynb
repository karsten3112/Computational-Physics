{
 "cells": [
  {
   "cell_type": "code",
   "execution_count": 4,
   "metadata": {},
   "outputs": [],
   "source": [
    "import sys\n",
    "import copy\n",
    "sys.path.insert(0, \"..\")\n",
    "from classes.calculators.lennardjones import LennardJones\n",
    "from classes.atoms import Atom_Collection, Atom\n",
    "from classes.optimizers.random_struct_search import Random_Searcher\n",
    "from classes.optimizers.md_simulator import MD_simulator_new\n",
    "import matplotlib.pyplot as plt\n",
    "from matplotlib import animation\n",
    "import numpy as np\n",
    "plt.rc('animation', html='jshtml')"
   ]
  },
  {
   "cell_type": "code",
   "execution_count": 5,
   "metadata": {},
   "outputs": [],
   "source": [
    "frozens = [True for i in range(5)] + [False for i in range(2)]\n",
    "colors = [\"C1\" for i in range(5)] + [\"C0\" for i in range(2)]\n",
    "poss = [np.array([-2.0+i, 0.0]) for i in range(5)] + [np.array([-0.5,1.0]), np.array([0.5,1.0])]\n",
    "\n",
    "atom_list = []\n",
    "for color, frozen, pos in zip(colors, frozens, poss):\n",
    "    atom = Atom(position=pos, color=color, frozen=frozen, size=50)\n",
    "    atom_list.append(atom)\n",
    "atom_col = Atom_Collection(atomlist=atom_list)\n",
    "atom_col.calculator = LennardJones()\n",
    "rand_searcher = Random_Searcher(atom_col=atom_col, step_size=0.1)\n",
    "atom_rel = rand_searcher.line_search(atom_col=atom_col, fmax=0.05)[0]\n",
    "atom_rel.rattle_atoms(delta=0.05)"
   ]
  },
  {
   "cell_type": "code",
   "execution_count": 6,
   "metadata": {},
   "outputs": [
    {
     "ename": "TypeError",
     "evalue": "'NoneType' object is not subscriptable",
     "output_type": "error",
     "traceback": [
      "\u001b[1;31m---------------------------------------------------------------------------\u001b[0m",
      "\u001b[1;31mTypeError\u001b[0m                                 Traceback (most recent call last)",
      "Cell \u001b[1;32mIn[6], line 2\u001b[0m\n\u001b[0;32m      1\u001b[0m md_simulator \u001b[38;5;241m=\u001b[39m MD_simulator_new(atom_col\u001b[38;5;241m=\u001b[39matom_rel)\n\u001b[1;32m----> 2\u001b[0m positions, velocities \u001b[38;5;241m=\u001b[39m md_simulator\u001b[38;5;241m.\u001b[39mrun_N2_integration(N_steps\u001b[38;5;241m=\u001b[39m\u001b[38;5;241m100\u001b[39m, t_init\u001b[38;5;241m=\u001b[39m\u001b[38;5;241m0.0\u001b[39m, return_type\u001b[38;5;241m=\u001b[39m\u001b[38;5;124m\"\u001b[39m\u001b[38;5;124mpos_and_vels\u001b[39m\u001b[38;5;124m\"\u001b[39m)\n\u001b[0;32m      3\u001b[0m potential_energies \u001b[38;5;241m=\u001b[39m []\n\u001b[0;32m      4\u001b[0m kinetic_energies \u001b[38;5;241m=\u001b[39m []\n",
      "File \u001b[1;32mc:\\Users\\karst\\Computational-Physics\\Week5\\..\\classes\\optimizers\\md_simulator.py:103\u001b[0m, in \u001b[0;36mMD_simulator_new.run_N2_integration\u001b[1;34m(self, N_steps, pos_init, vels_init, t_init, time_step, track, method, return_type)\u001b[0m\n\u001b[0;32m    101\u001b[0m \u001b[38;5;28;01mfor\u001b[39;00m i \u001b[38;5;129;01min\u001b[39;00m \u001b[38;5;28mrange\u001b[39m(N_steps):\n\u001b[0;32m    102\u001b[0m     \u001b[38;5;28;01mif\u001b[39;00m method \u001b[38;5;241m==\u001b[39m \u001b[38;5;124m\"\u001b[39m\u001b[38;5;124mverlet_integrate\u001b[39m\u001b[38;5;124m\"\u001b[39m:\n\u001b[1;32m--> 103\u001b[0m         positions, velocities \u001b[38;5;241m=\u001b[39m \u001b[38;5;28mself\u001b[39m\u001b[38;5;241m.\u001b[39mverlet_integrate(positions\u001b[38;5;241m=\u001b[39mpositions, velocities\u001b[38;5;241m=\u001b[39mvelocities, time_step\u001b[38;5;241m=\u001b[39mtime_step)\n\u001b[0;32m    104\u001b[0m     \u001b[38;5;28;01mif\u001b[39;00m method \u001b[38;5;241m==\u001b[39m \u001b[38;5;124m\"\u001b[39m\u001b[38;5;124meuler_integrate\u001b[39m\u001b[38;5;124m\"\u001b[39m:\n\u001b[0;32m    105\u001b[0m         \u001b[38;5;28;01mpass\u001b[39;00m\n",
      "File \u001b[1;32mc:\\Users\\karst\\Computational-Physics\\Week5\\..\\classes\\optimizers\\md_simulator.py:78\u001b[0m, in \u001b[0;36mMD_simulator_new.verlet_integrate\u001b[1;34m(self, positions, velocities, time_step)\u001b[0m\n\u001b[0;32m     77\u001b[0m \u001b[38;5;28;01mdef\u001b[39;00m \u001b[38;5;21mverlet_integrate\u001b[39m(\u001b[38;5;28mself\u001b[39m, positions, velocities, time_step\u001b[38;5;241m=\u001b[39m\u001b[38;5;241m0.01\u001b[39m):\n\u001b[1;32m---> 78\u001b[0m     acc \u001b[38;5;241m=\u001b[39m \u001b[38;5;28mself\u001b[39m\u001b[38;5;241m.\u001b[39mcalculator\u001b[38;5;241m.\u001b[39mforces(positions)\n\u001b[0;32m     79\u001b[0m     new_poses \u001b[38;5;241m=\u001b[39m positions \u001b[38;5;241m+\u001b[39m (velocities\u001b[38;5;241m*\u001b[39mtime_step \u001b[38;5;241m+\u001b[39m \u001b[38;5;241m1.0\u001b[39m\u001b[38;5;241m/\u001b[39m\u001b[38;5;241m2.0\u001b[39m\u001b[38;5;241m*\u001b[39macc\u001b[38;5;241m*\u001b[39mtime_step\u001b[38;5;241m*\u001b[39m\u001b[38;5;241m*\u001b[39m\u001b[38;5;241m2\u001b[39m)\u001b[38;5;241m*\u001b[39m\u001b[38;5;28mself\u001b[39m\u001b[38;5;241m.\u001b[39matoms_for_move[:,\u001b[38;5;28;01mNone\u001b[39;00m]\n\u001b[0;32m     80\u001b[0m     acc_new \u001b[38;5;241m=\u001b[39m \u001b[38;5;28mself\u001b[39m\u001b[38;5;241m.\u001b[39mcalculator\u001b[38;5;241m.\u001b[39mforces(new_poses)\n",
      "File \u001b[1;32mc:\\Users\\karst\\Computational-Physics\\Week5\\..\\classes\\calculators\\lennardjones.py:19\u001b[0m, in \u001b[0;36mLennardJones.forces\u001b[1;34m(self, pos)\u001b[0m\n\u001b[0;32m     18\u001b[0m \u001b[38;5;28;01mdef\u001b[39;00m \u001b[38;5;21mforces\u001b[39m(\u001b[38;5;28mself\u001b[39m, pos):\n\u001b[1;32m---> 19\u001b[0m     diff \u001b[38;5;241m=\u001b[39m pos[np\u001b[38;5;241m.\u001b[39mnewaxis, :, :] \u001b[38;5;241m-\u001b[39m pos[:, np\u001b[38;5;241m.\u001b[39mnewaxis, :]\n\u001b[0;32m     20\u001b[0m     r \u001b[38;5;241m=\u001b[39m np\u001b[38;5;241m.\u001b[39msqrt(np\u001b[38;5;241m.\u001b[39msum(diff\u001b[38;5;241m*\u001b[39m\u001b[38;5;241m*\u001b[39m\u001b[38;5;241m2\u001b[39m, axis\u001b[38;5;241m=\u001b[39m\u001b[38;5;241m-\u001b[39m\u001b[38;5;241m1\u001b[39m))\n\u001b[0;32m     21\u001b[0m     np\u001b[38;5;241m.\u001b[39mfill_diagonal(r, np\u001b[38;5;241m.\u001b[39minf)\n",
      "\u001b[1;31mTypeError\u001b[0m: 'NoneType' object is not subscriptable"
     ]
    }
   ],
   "source": [
    "md_simulator = MD_simulator_new(atom_col=atom_rel)\n",
    "positions, velocities = md_simulator.run_N2_integration(N_steps=100, t_init=0.0, return_type=\"pos_and_vels\")\n",
    "potential_energies = []\n",
    "kinetic_energies = []\n",
    "total_energies = []\n",
    "init_pos = atom_rel.get_positions()\n",
    "for vel, pos in zip(velocities, positions):\n",
    "    pot_e = atom_rel.get_potential_energy()\n",
    "    kin_e = atom_rel.get_kinetic_energy()\n",
    "    potential_energies.append(pot_e)\n",
    "    kinetic_energies.append(kin_e)\n",
    "    total_energies.append(pot_e+kin_e)\n",
    "    atom_rel.set_positions(pos)\n",
    "    atom_rel.set_velocities(vel)\n",
    "atom_rel.set_positions(init_pos)"
   ]
  },
  {
   "cell_type": "code",
   "execution_count": null,
   "metadata": {},
   "outputs": [],
   "source": [
    "fig, axs = plt.subplots(1,4, figsize=(18,5))\n",
    "axs[0].set_xlim([-2,2])\n",
    "axs[0].set_ylim([-1,2])\n",
    "axs[1].set_ylim([np.min(kinetic_energies)-0.5,np.max(kinetic_energies)+0.5])\n",
    "axs[2].set_ylim([np.min(potential_energies)-0.5,np.max(potential_energies)+0.5])\n",
    "axs[3].set_ylim([np.min(total_energies)-0.5,np.max(total_energies)+0.5])\n",
    "axs[1].set_title(\"Kinetic energy\")\n",
    "axs[2].set_title(\"Potential energy\")\n",
    "axs[3].set_title(\"Total energy\")\n",
    "for i in [1,2,3]:\n",
    "    axs[i].set_xlim([0,100])\n",
    "\n",
    "atom_rel.plot(ax=axs[0])\n",
    "axs[0].grid()\n",
    "\n",
    "def update(i):\n",
    "    pos = positions[i]\n",
    "    atom_rel.set_positions(pos)\n",
    "    plot_elem = atom_rel.plot(ax=axs[0])\n",
    "    init_pot = potential_energies[i]\n",
    "    final_pot = potential_energies[i+1]\n",
    "    init_kin = kinetic_energies[i]\n",
    "    final_kin = kinetic_energies[i+1]\n",
    "    tot_init = total_energies[i]\n",
    "    tot_final = total_energies[i+1]\n",
    "    axs[1].plot([i,i+1], [init_kin, final_kin], c=\"r\")\n",
    "    axs[2].plot([i,i+1], [init_pot, final_pot], c=\"blue\")\n",
    "    axs[3].plot([i,i+1], [tot_init, tot_final], c=\"green\")\n",
    "    return plot_elem"
   ]
  },
  {
   "cell_type": "code",
   "execution_count": null,
   "metadata": {},
   "outputs": [],
   "source": [
    "N = 90\n",
    "anim = animation.FuncAnimation(fig,\n",
    "                               update,\n",
    "                               frames=N,\n",
    "                               interval=75,\n",
    "                               blit=True)\n",
    "anim"
   ]
  },
  {
   "cell_type": "code",
   "execution_count": null,
   "metadata": {},
   "outputs": [],
   "source": [
    "print(total_energies)"
   ]
  },
  {
   "cell_type": "code",
   "execution_count": null,
   "metadata": {},
   "outputs": [],
   "source": []
  }
 ],
 "metadata": {
  "kernelspec": {
   "display_name": "base",
   "language": "python",
   "name": "python3"
  },
  "language_info": {
   "codemirror_mode": {
    "name": "ipython",
    "version": 3
   },
   "file_extension": ".py",
   "mimetype": "text/x-python",
   "name": "python",
   "nbconvert_exporter": "python",
   "pygments_lexer": "ipython3",
   "version": "3.11.3"
  }
 },
 "nbformat": 4,
 "nbformat_minor": 2
}
