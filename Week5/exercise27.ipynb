{
 "cells": [
  {
   "cell_type": "code",
   "execution_count": null,
   "metadata": {},
   "outputs": [],
   "source": [
    "import sys\n",
    "import copy\n",
    "sys.path.insert(0, \"..\")\n",
    "from classes.calculators.lennardjones import LennardJones\n",
    "from classes.atoms import Atom_Collection, Atom\n",
    "from classes.optimizers.random_struct_search import Random_Searcher\n",
    "from classes.optimizers.md_simulator import MD_Simulator\n",
    "import matplotlib.pyplot as plt\n",
    "from matplotlib import animation\n",
    "import numpy as np\n",
    "plt.rc('animation', html='jshtml')"
   ]
  },
  {
   "cell_type": "code",
   "execution_count": null,
   "metadata": {},
   "outputs": [],
   "source": [
    "poses = [np.array([-.5,0.0]), np.array([0.5,0.0]), np.array([0.0,0.5])]\n",
    "atom_list = [Atom(position=pos) for pos in poses]\n",
    "atom_col = Atom_Collection(atomlist=atom_list)\n",
    "atom_col.calculator = LennardJones()\n",
    "min_searcher = Random_Searcher(atom_col=atom_col, step_size=0.1)\n",
    "relaxed_atoms = min_searcher.line_search(atom_col=atom_col, fmax=0.05)[0]"
   ]
  },
  {
   "cell_type": "code",
   "execution_count": null,
   "metadata": {},
   "outputs": [],
   "source": [
    "md_simulator = MD_Simulator()\n",
    "temp_step = 0.05\n",
    "temps = np.arange(0, 2.0+temp_step, temp_step)\n",
    "saved_atom_cols = {}\n",
    "for temp in temps:\n",
    "    saved_atom_cols[temp] = md_simulator.run_MD_simulation(atom_col=relaxed_atoms, temp=temp)\n"
   ]
  },
  {
   "cell_type": "code",
   "execution_count": null,
   "metadata": {},
   "outputs": [],
   "source": [
    "mean_Es = {}\n",
    "for temp in saved_atom_cols:\n",
    "    atom_cols = saved_atom_cols[temp]\n",
    "    Es = []\n",
    "    for atom_col in atom_cols:\n",
    "        pot_e = atom_col.get_potential_energy()\n",
    "        kin_e = atom_col.get_kinetic_energy()\n",
    "        total_energy = pot_e + kin_e\n",
    "        Es.append(total_energy)\n",
    "    mean_Es[temp] = np.mean(Es)"
   ]
  },
  {
   "cell_type": "code",
   "execution_count": null,
   "metadata": {},
   "outputs": [],
   "source": [
    "Es = [mean_Es[temp] for temp in temps]\n",
    "t_x = []\n",
    "cvs = []\n",
    "for i in range(len(temps) - 1):\n",
    "    t_x.append(1.0/2.0*(temps[i] + temps[i+1]))\n",
    "    cv = (Es[i+1] - Es[i])/(temps[i+1]-temps[i])\n",
    "    cvs.append(cv)"
   ]
  },
  {
   "cell_type": "code",
   "execution_count": null,
   "metadata": {},
   "outputs": [],
   "source": [
    "fig, axs = plt.subplots(1,3, figsize=(17,5))\n",
    "axs[0].plot(temps, Es)\n",
    "axs[1].plot(t_x, cvs)\n",
    "axs[2].set_ylim([-50,50])\n",
    "axs[2].set_xlim([1.5,2.0])\n",
    "axs[2].plot(t_x, cvs)\n",
    "def lin_func(xs, a, b):\n",
    "    return xs*a + b\n",
    "xs =np.linspace(0,1.0, 100)\n",
    "axs[0].plot(xs, lin_func(xs, 6, -15))\n",
    "xs =np.linspace(1.0,2.0, 100)\n",
    "axs[0].plot(xs, lin_func(xs, 3, -2))"
   ]
  },
  {
   "cell_type": "code",
   "execution_count": null,
   "metadata": {},
   "outputs": [],
   "source": []
  }
 ],
 "metadata": {
  "kernelspec": {
   "display_name": "base",
   "language": "python",
   "name": "python3"
  },
  "language_info": {
   "codemirror_mode": {
    "name": "ipython",
    "version": 3
   },
   "file_extension": ".py",
   "mimetype": "text/x-python",
   "name": "python",
   "nbconvert_exporter": "python",
   "pygments_lexer": "ipython3",
   "version": "3.11.3"
  }
 },
 "nbformat": 4,
 "nbformat_minor": 2
}
