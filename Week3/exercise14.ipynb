{
 "cells": [
  {
   "cell_type": "code",
   "execution_count": 1,
   "metadata": {},
   "outputs": [],
   "source": [
    "import sys\n",
    "import copy\n",
    "sys.path.insert(0, \"..\")\n",
    "from classes.calculators.lennardjones import LennardJones\n",
    "from classes.atoms import Atom_Collection, Atom\n",
    "from classes.optimizers.metropol import Metropol\n",
    "from classes.optimizers.random_struct_search import Random_Searcher\n",
    "import matplotlib.pyplot as plt\n",
    "from matplotlib import animation\n",
    "import numpy as np\n",
    "plt.rc('animation', html='jshtml')"
   ]
  },
  {
   "cell_type": "code",
   "execution_count": 2,
   "metadata": {},
   "outputs": [
    {
     "name": "stdout",
     "output_type": "stream",
     "text": [
      "[1.58113883 2.91547595 3.35410197 2.         1.80277564 1.80277564]\n"
     ]
    },
    {
     "data": {
      "image/png": "[encoded data removed]",
      "text/plain": [
       "<Figure size 500x400 with 1 Axes>"
      ]
     },
     "metadata": {},
     "output_type": "display_data"
    }
   ],
   "source": [
    "atomlist = []\n",
    "positions = [np.array([-1.5,-1.5]), np.array([-1.0,0.0]), np.array([1.0,0.0]), np.array([0.0, 1.5])]\n",
    "colors = [\"C0\", \"C1\", \"C1\", \"C1\"]\n",
    "fig, ax = plt.subplots(figsize=(5,4))\n",
    "ax.set_xlim([-2.0,2.0])\n",
    "ax.set_ylim([-1.0,3.0])\n",
    "for position, color in zip(positions, colors):\n",
    "    atom = Atom(position=position, color=color)\n",
    "    atomlist.append(atom)\n",
    "ax.grid()\n",
    "atom_col = Atom_Collection(atomlist=atomlist)\n",
    "atom_col.calculator = LennardJones()\n",
    "atom_col.plot(ax=ax)\n",
    "E_lim = 5.0\n",
    "xs = np.linspace(-3.0, 3.0, 200)\n",
    "ys = np.linspace(-3.0, 3.0, 200)\n",
    "energies = np.zeros(shape=(len(ys), len(xs)))\n",
    "for i, x in enumerate(xs):\n",
    "    for j, y in enumerate(ys):\n",
    "        atom_col.set_atom_pos(index=0, pos=np.array([x, y]))\n",
    "        E = atom_col.get_potential_energy()\n",
    "        if E > E_lim:\n",
    "            energies[j][i] = E_lim #WE SET LARGE VALUES TO CAP AT E_lim\n",
    "        else:\n",
    "            energies[j][i] = E\n",
    "atom_col[0].pos = positions[0]\n",
    "print(atom_col.get_distances())"
   ]
  },
  {
   "cell_type": "code",
   "execution_count": 3,
   "metadata": {},
   "outputs": [],
   "source": [
    "atoms_for_freeze = [1,2,3]\n",
    "atom_col.freeze_atoms(indices=atoms_for_freeze)\n",
    "optimizer = Random_Searcher(atom_col=atom_col, step_size=0.1)\n",
    "opt_cols = optimizer.line_search(atom_col, N_max=400, fmax=0.05, track=True)"
   ]
  },
  {
   "cell_type": "code",
   "execution_count": 4,
   "metadata": {},
   "outputs": [],
   "source": [
    "path = np.zeros(shape=(len(opt_cols), 2))\n",
    "pot_steps = []\n",
    "for i,col in enumerate(opt_cols):\n",
    "    atom = col[0]\n",
    "    path[i] = atom.pos\n",
    "    pot_steps.append(col.get_potential_energy())"
   ]
  },
  {
   "cell_type": "code",
   "execution_count": null,
   "metadata": {},
   "outputs": [],
   "source": [
    "fig, axs = plt.subplots(1,3,figsize=(15,4))\n",
    "axs[0].set_xlim([-2.0,2.0])\n",
    "axs[0].set_ylim([-2.0,3.0])\n",
    "axs[1].set_xlim([-0.3,0.3])\n",
    "axs[1].set_ylim([-0.1,0.9])\n",
    "Xi, Yi = np.meshgrid(xs, xs)\n",
    "axs[2].plot(np.linspace(0, len(pot_steps), len(pot_steps)), pot_steps)\n",
    "for ax in axs[0:2]:\n",
    "    ax.contour(Xi, Yi, energies, levels=30, linewidths=0.5, colors='k')\n",
    "    cntr1 = ax.contourf(Xi, Yi, energies, levels=30, cmap=\"hot\")\n",
    "    ax.plot(path[:,0], path[:,1], \"o-\")\n",
    "    fig.colorbar(cntr1, ax=ax)"
   ]
  },
  {
   "cell_type": "code",
   "execution_count": null,
   "metadata": {},
   "outputs": [],
   "source": []
  },
  {
   "cell_type": "code",
   "execution_count": null,
   "metadata": {},
   "outputs": [],
   "source": []
  },
  {
   "cell_type": "code",
   "execution_count": null,
   "metadata": {},
   "outputs": [],
   "source": []
  },
  {
   "cell_type": "code",
   "execution_count": null,
   "metadata": {},
   "outputs": [],
   "source": []
  },
  {
   "cell_type": "code",
   "execution_count": null,
   "metadata": {},
   "outputs": [],
   "source": []
  }
 ],
 "metadata": {
  "kernelspec": {
   "display_name": "base",
   "language": "python",
   "name": "python3"
  },
  "language_info": {
   "codemirror_mode": {
    "name": "ipython",
    "version": 3
   },
   "file_extension": ".py",
   "mimetype": "text/x-python",
   "name": "python",
   "nbconvert_exporter": "python",
   "pygments_lexer": "ipython3",
   "version": "3.11.3"
  }
 },
 "nbformat": 4,
 "nbformat_minor": 2
}
