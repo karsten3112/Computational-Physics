{
 "cells": [
  {
   "cell_type": "code",
   "execution_count": null,
   "metadata": {},
   "outputs": [],
   "source": [
    "import sys\n",
    "import copy\n",
    "sys.path.insert(0, \"..\")\n",
    "from classes.calculators.lennardjones import LennardJones\n",
    "from classes.atoms import Atom_Collection, Atom\n",
    "from classes.optimizers.metropol import Metropol\n",
    "from classes.optimizers.random_struct_search import Random_Searcher\n",
    "import matplotlib.pyplot as plt\n",
    "from matplotlib import animation\n",
    "import numpy as np\n",
    "plt.rc('animation', html='jshtml')"
   ]
  },
  {
   "cell_type": "code",
   "execution_count": null,
   "metadata": {},
   "outputs": [],
   "source": [
    "def random_inits(N, x_min=-4.0, x_max=4.0, y_min=-4.0, y_max=4.0):\n",
    "    ns = np.random.rand(N,2)\n",
    "    ns[:,0]*=(x_max-x_min)\n",
    "    ns[:,0]+=x_min\n",
    "    ns[:,1]*=(y_max-y_min)\n",
    "    ns[:,1]+=y_min\n",
    "    return ns\n",
    "\n",
    "def create_atom_col(N_atoms, grid_size, fixed_col=\"C1\", non_fixed_col=\"C0\"):\n",
    "    atom_list = []\n",
    "    colors = [fixed_col] + [non_fixed_col for i in range(N_atoms-1)]\n",
    "    init_pos = random_inits(N=N_atoms-1, x_min=grid_size[0], x_max=grid_size[1], y_min=grid_size[0], y_max=grid_size[1])\n",
    "    init_pos_fixed = np.array([0.0,0.0])\n",
    "    new_arr = np.insert(init_pos,0, init_pos_fixed).reshape(N_atoms, 2)\n",
    "    for pos, col in zip(new_arr, colors):\n",
    "        atom = Atom(pos, color=col)\n",
    "        atom_list.append(atom)\n",
    "    atom_col = Atom_Collection(atomlist=atom_list)\n",
    "    atom_col.freeze_atoms(indices=[0])\n",
    "    return atom_col"
   ]
  },
  {
   "cell_type": "markdown",
   "metadata": {},
   "source": [
    "# $N=5$:  Atomic cluster\n",
    "## Before line-search:"
   ]
  },
  {
   "cell_type": "code",
   "execution_count": null,
   "metadata": {},
   "outputs": [],
   "source": [
    "fig, axs = plt.subplots(2,4, figsize=(16,7))\n",
    "atom_cols = []\n",
    "sizes = [20.0 for i in range(5)]\n",
    "for ax in axs.flatten():\n",
    "    ax.grid()\n",
    "    ax.set_xlim([-4,4])\n",
    "    ax.set_ylim([-4,4])\n",
    "    atom_col = create_atom_col(5, [-3.0,3.0])\n",
    "    atom_col.set_sizes(new_sizes=sizes)\n",
    "    atom_col.calculator = LennardJones()\n",
    "    atom_col.plot(ax=ax)\n",
    "    atom_cols.append(atom_col)\n",
    "    ax.set_title(rf\"$E=${atom_col.get_potential_energy().round(3)}\")"
   ]
  },
  {
   "cell_type": "markdown",
   "metadata": {},
   "source": [
    "## After Line-search"
   ]
  },
  {
   "cell_type": "code",
   "execution_count": null,
   "metadata": {},
   "outputs": [],
   "source": [
    "optimizer = Random_Searcher(atom_col=atom_cols[0], step_size=0.1)\n",
    "opt_cols = []\n",
    "for atom_col in atom_cols:\n",
    "    opt_col = copy.deepcopy(atom_col)\n",
    "    optimizer.line_search(opt_col, N_max=100)\n",
    "    opt_cols.append(opt_col)\n",
    "\n",
    "fig, axs = plt.subplots(2,4, figsize=(16,7))\n",
    "sizes = [25.0 for i in range(5)]\n",
    "for ax, opt_col in zip(axs.flatten(), opt_cols):\n",
    "    ax.grid()\n",
    "    ax.set_xlim([-4,4])\n",
    "    ax.set_ylim([-4,4])\n",
    "    opt_col.plot(ax=ax)\n",
    "    ax.set_title(rf\"$E=${opt_col.get_potential_energy().round(3)}\")"
   ]
  },
  {
   "cell_type": "markdown",
   "metadata": {},
   "source": [
    "# $N=7$:  Atomic cluster\n",
    "## Before line-search:"
   ]
  },
  {
   "cell_type": "code",
   "execution_count": null,
   "metadata": {},
   "outputs": [],
   "source": [
    "fig, axs = plt.subplots(2,4, figsize=(16,7))\n",
    "atom_cols = []\n",
    "N_atoms = 7\n",
    "sizes = [20.0 for i in range(N_atoms)]\n",
    "for ax in axs.flatten():\n",
    "    ax.grid()\n",
    "    ax.set_xlim([-4,4])\n",
    "    ax.set_ylim([-4,4])\n",
    "    atom_col = create_atom_col(N_atoms=N_atoms, grid_size=[-3.0,3.0])\n",
    "    atom_col.set_sizes(new_sizes=sizes)\n",
    "    atom_col.calculator = LennardJones()\n",
    "    atom_col.plot(ax=ax)\n",
    "    atom_cols.append(atom_col)\n",
    "    ax.set_title(rf\"$E=${atom_col.get_potential_energy().round(3)}\")"
   ]
  },
  {
   "cell_type": "markdown",
   "metadata": {},
   "source": [
    "## After line-search:"
   ]
  },
  {
   "cell_type": "code",
   "execution_count": null,
   "metadata": {},
   "outputs": [],
   "source": [
    "optimizer = Random_Searcher(atom_col=atom_cols[0], step_size=0.1)\n",
    "opt_cols = []\n",
    "for atom_col in atom_cols:\n",
    "    opt_col = copy.deepcopy(atom_col)\n",
    "    optimizer.line_search(opt_col, N_max=100)\n",
    "    opt_cols.append(opt_col)\n",
    "\n",
    "fig, axs = plt.subplots(2,4, figsize=(16,7))\n",
    "sizes = [25.0 for i in range(5)]\n",
    "for ax, opt_col in zip(axs.flatten(), opt_cols):\n",
    "    ax.grid()\n",
    "    ax.set_xlim([-4,4])\n",
    "    ax.set_ylim([-4,4])\n",
    "    opt_col.plot(ax=ax)\n",
    "    ax.set_title(rf\"$E=${opt_col.get_potential_energy().round(3)}\")"
   ]
  },
  {
   "cell_type": "markdown",
   "metadata": {},
   "source": [
    "# $N=17$:  Atomic cluster\n",
    "## Before line-search:"
   ]
  },
  {
   "cell_type": "code",
   "execution_count": null,
   "metadata": {},
   "outputs": [],
   "source": [
    "fig, axs = plt.subplots(2,4, figsize=(16,7))\n",
    "atom_cols = []\n",
    "N_atoms = 17\n",
    "sizes = [20.0 for i in range(N_atoms)]\n",
    "for ax in axs.flatten():\n",
    "    ax.grid()\n",
    "    ax.set_xlim([-4,4])\n",
    "    ax.set_ylim([-4,4])\n",
    "    atom_col = create_atom_col(N_atoms=N_atoms, grid_size=[-3.0,3.0])\n",
    "    atom_col.set_sizes(new_sizes=sizes)\n",
    "    atom_col.calculator = LennardJones()\n",
    "    atom_col.plot(ax=ax)\n",
    "    atom_cols.append(atom_col)\n",
    "    ax.set_title(rf\"$E=${atom_col.get_potential_energy().round(3)}\")"
   ]
  },
  {
   "cell_type": "markdown",
   "metadata": {},
   "source": [
    "## After Line-search"
   ]
  },
  {
   "cell_type": "code",
   "execution_count": null,
   "metadata": {},
   "outputs": [],
   "source": [
    "optimizer = Random_Searcher(atom_col=atom_cols[0], step_size=0.1)\n",
    "opt_cols = []\n",
    "for atom_col in atom_cols:\n",
    "    opt_col = copy.deepcopy(atom_col)\n",
    "    optimizer.line_search(opt_col, N_max=70)\n",
    "    opt_cols.append(opt_col)\n",
    "\n",
    "fig, axs = plt.subplots(2,4, figsize=(16,7))\n",
    "sizes = [25.0 for i in range(5)]\n",
    "for ax, opt_col in zip(axs.flatten(), opt_cols):\n",
    "    ax.grid()\n",
    "    ax.set_xlim([-4,4])\n",
    "    ax.set_ylim([-4,4])\n",
    "    opt_col.plot(ax=ax)\n",
    "    ax.set_title(rf\"$E=${opt_col.get_potential_energy().round(3)}\")"
   ]
  },
  {
   "cell_type": "code",
   "execution_count": null,
   "metadata": {},
   "outputs": [],
   "source": [
    "print(opt_cols[0].get_forces())"
   ]
  },
  {
   "cell_type": "code",
   "execution_count": null,
   "metadata": {},
   "outputs": [],
   "source": []
  }
 ],
 "metadata": {
  "kernelspec": {
   "display_name": "base",
   "language": "python",
   "name": "python3"
  },
  "language_info": {
   "codemirror_mode": {
    "name": "ipython",
    "version": 3
   },
   "file_extension": ".py",
   "mimetype": "text/x-python",
   "name": "python",
   "nbconvert_exporter": "python",
   "pygments_lexer": "ipython3",
   "version": "3.11.3"
  }
 },
 "nbformat": 4,
 "nbformat_minor": 2
}
