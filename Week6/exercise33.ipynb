{
 "cells": [
  {
   "cell_type": "code",
   "execution_count": null,
   "metadata": {},
   "outputs": [],
   "source": [
    "import copy\n",
    "import sys\n",
    "sys.path.insert(0, \"..\")\n",
    "import numpy as np\n",
    "import matplotlib.pyplot as plt\n",
    "from classes.calculators.lennardjones import LennardJones\n",
    "from classes.regression.regressers import pol_kernel_func, RBF_kernel_func, pol_kernel_regressor"
   ]
  },
  {
   "cell_type": "code",
   "execution_count": null,
   "metadata": {},
   "outputs": [],
   "source": [
    "def dot_prod(x1, x2):\n",
    "    x1 = np.array([1.0, np.sqrt(2)*x1, x1**2])\n",
    "    x_dat = np.zeros(shape=(len(x2), 3))\n",
    "    x_dat[:,0]+=1.0\n",
    "    x_dat[:,1]+=np.sqrt(2)*x2\n",
    "    x_dat[:,2]+=x2*x2\n",
    "    return np.dot(x1, x_dat.T)\n"
   ]
  },
  {
   "cell_type": "code",
   "execution_count": null,
   "metadata": {},
   "outputs": [],
   "source": [
    "xs = np.linspace(-5.0, 5.0, 1000)\n",
    "fig, axs = plt.subplots(1,2, figsize=(13,5))\n",
    "ys_dot = dot_prod(2.0, xs)\n",
    "ys_kern = pol_kernel_func(x_basis=np.array([2.0]), x_data=xs, N_deg=2).reshape(1,-1)[0]\n",
    "for ax in axs:\n",
    "    ax.grid()\n",
    "axs[0].plot(xs, ys_kern)\n",
    "axs[0].plot(xs, ys_dot, \"--\")\n",
    "xs1 = np.random.rand(20)*10 - 5.0\n",
    "xs2 = np.random.rand(20)*10 - 5.0\n",
    "ys_dot_tot = []\n",
    "ys_kern_tot = []\n",
    "for x1 in xs1:\n",
    "    ys_dot = dot_prod(x1=x1, x2=xs2)\n",
    "    ys_kern = pol_kernel_func(x_basis=np.array([x1]), x_data=xs2, N_deg=2).reshape(1,-1)[0]\n",
    "    ys_dot_tot.append(ys_dot)\n",
    "    ys_kern_tot.append(ys_kern)\n",
    "\n",
    "axs[1].scatter(np.array(ys_dot_tot).flatten(), np.array(ys_kern_tot).flatten(), alpha=0.3, s=20)"
   ]
  },
  {
   "cell_type": "code",
   "execution_count": null,
   "metadata": {},
   "outputs": [],
   "source": [
    "class DiscreteRBF():\n",
    "    def __init__(self, delta_x, sigma=1.0, color=\"C4\") -> None:\n",
    "        self.delta_x = delta_x\n",
    "        self.color = color\n",
    "        self.sigma = sigma\n",
    "        self.sig_phi = self.sigma/np.sqrt(2.0)\n",
    "        self.A = np.sqrt(np.sqrt(2.0*np.pi)*self.sigma)\n",
    "        self.bin_edges = np.arange(-12,12.01, self.delta_x)\n",
    "        self.bin_centers = (self.bin_edges[:-1] + self.bin_edges[1:]) /2\n",
    "\n",
    "    def RBF(self, xs, x_val):\n",
    "        t1 = 1.0/(np.sqrt(2.0*np.pi)*self.sig_phi)\n",
    "        t2 = np.exp(-(xs-x_val)**2/(2.0*self.sig_phi**2))\n",
    "        return self.A*t1*t2*np.sqrt(self.delta_x)\n",
    "\n",
    "    def get_descriptor(self, x_val, return_bins=False):\n",
    "        return self.RBF(xs=self.bin_centers, x_val=x_val)\n",
    "    \n",
    "    def plot(self, x_val, ax):\n",
    "        desc_vect =self.get_descriptor(x_val, return_bins=True)\n",
    "        ax.bar(self.bin_centers,desc_vect,width=0.8*self.delta_x,color=self.color)\n",
    "        ax.xaxis.set_major_locator(plt.MultipleLocator(1.0))\n"
   ]
  },
  {
   "cell_type": "code",
   "execution_count": null,
   "metadata": {},
   "outputs": [],
   "source": [
    "x1 = 0.25\n",
    "x2 = 0.5\n",
    "for dx in [0.1,0.02,0.02, 0.04, 0.008, 0.0016, 0.00032, 0.000064]:\n",
    "    discrete_rbf = DiscreteRBF(delta_x=dx, sigma=0.1)\n",
    "    desc = discrete_rbf.get_descriptor(x1)\n",
    "    #print(desc.round(3))\n",
    "    print(discrete_rbf.get_descriptor(x1) @ discrete_rbf.get_descriptor(x1),\n",
    "          discrete_rbf.get_descriptor(x2) @ discrete_rbf.get_descriptor(x2),\n",
    "          discrete_rbf.get_descriptor(x1) @ discrete_rbf.get_descriptor(x2))"
   ]
  },
  {
   "cell_type": "code",
   "execution_count": null,
   "metadata": {},
   "outputs": [],
   "source": [
    "fig, axes = plt.subplots(1,4,figsize=(16,4))\n",
    "for ax, dx in zip(axes,[0.2,0.15,0.1,0.05]):\n",
    "    discrete_rbf = DiscreteRBF(delta_x=dx, sigma=1e-1, color=\"C0\")\n",
    "    discrete_rbf.plot(0.5,ax)\n",
    "    discrete_rbf.color=\"C1\"\n",
    "    discrete_rbf.plot(0.25,ax)\n",
    "    ax.set_xlim([-1,1])\n",
    "    ax.text(0.05,0.8,f'$\\Delta x={dx:.2f}$',transform = ax.transAxes)"
   ]
  },
  {
   "cell_type": "code",
   "execution_count": null,
   "metadata": {},
   "outputs": [],
   "source": []
  }
 ],
 "metadata": {
  "kernelspec": {
   "display_name": "base",
   "language": "python",
   "name": "python3"
  },
  "language_info": {
   "codemirror_mode": {
    "name": "ipython",
    "version": 3
   },
   "file_extension": ".py",
   "mimetype": "text/x-python",
   "name": "python",
   "nbconvert_exporter": "python",
   "pygments_lexer": "ipython3",
   "version": "3.11.3"
  }
 },
 "nbformat": 4,
 "nbformat_minor": 2
}
