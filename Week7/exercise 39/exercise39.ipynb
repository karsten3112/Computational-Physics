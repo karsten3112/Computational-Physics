{
 "cells": [
  {
   "cell_type": "code",
   "execution_count": 1,
   "metadata": {},
   "outputs": [],
   "source": [
    "import copy\n",
    "import sys\n",
    "sys.path.insert(0, \"../../\")\n",
    "from classes.atom_classes.atom import Atom\n",
    "from classes.atom_classes.atom_file_handler import Atom_File_handler\n",
    "from classes.atom_classes.atom_collection import Atom_Collection\n",
    "from classes.atom_classes.atom_collection_plotter import Animator, Atom_Collection_Plotter\n",
    "from classes.calculators.lennardjones import LJGauss\n",
    "from classes.optimizers.random_struct_search import Line_searcher1\n",
    "import matplotlib.pyplot as plt\n",
    "from scipy.spatial.distance import pdist\n",
    "import numpy as np"
   ]
  },
  {
   "cell_type": "code",
   "execution_count": 2,
   "metadata": {},
   "outputs": [],
   "source": [
    "class PairDistances():\n",
    "    \n",
    "    def __init__(self, color='C1'):\n",
    "        self.xwidth = 0.5\n",
    "        self.color = color\n",
    "        self.bin_edges = np.arange(0,7.01,self.xwidth)\n",
    "        self.bin_centers = (self.bin_edges[:-1] + self.bin_edges[1:]) /2\n",
    "    \n",
    "    def descriptor(self,positions):\n",
    "        diff = positions[np.newaxis, :, :] - positions[:, np.newaxis, :]\n",
    "        #for i, pos in enumerate(positions):\n",
    "        #    bars, _ = np.histogram(pdist(pos),self.bin_edges)\n",
    "        #return bars\n",
    "    \n",
    "    def draw(self,pos,ax):\n",
    "        vector = self.descriptor(pos)\n",
    "        ax.bar(self.bin_centers,vector,width=0.8 * self.xwidth,color=self.color)\n",
    "        ax.xaxis.set_major_locator(plt.MultipleLocator(1.0))\n",
    "        ax.set_ylim([0,20.1])\n",
    "        ax.set_title(self.__class__.__name__)\n",
    "    \n",
    "pair_distances = PairDistances()"
   ]
  },
  {
   "cell_type": "code",
   "execution_count": null,
   "metadata": {},
   "outputs": [],
   "source": []
  }
 ],
 "metadata": {
  "kernelspec": {
   "display_name": "base",
   "language": "python",
   "name": "python3"
  },
  "language_info": {
   "codemirror_mode": {
    "name": "ipython",
    "version": 3
   },
   "file_extension": ".py",
   "mimetype": "text/x-python",
   "name": "python",
   "nbconvert_exporter": "python",
   "pygments_lexer": "ipython3",
   "version": "3.11.3"
  }
 },
 "nbformat": 4,
 "nbformat_minor": 2
}
