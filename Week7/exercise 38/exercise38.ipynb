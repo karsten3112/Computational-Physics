{
 "cells": [
  {
   "cell_type": "code",
   "execution_count": 61,
   "metadata": {},
   "outputs": [],
   "source": [
    "import copy\n",
    "import sys\n",
    "sys.path.insert(0, \"../../\")\n",
    "from classes.atom_classes.atom import Atom\n",
    "from classes.atom_classes.atom_file_handler import Atom_File_handler\n",
    "from classes.atom_classes.atom_collection import Atom_Collection\n",
    "from classes.atom_classes.atom_collection_plotter import Animator, Atom_Collection_Plotter\n",
    "from classes.calculators.lennardjones import LJGauss\n",
    "from classes.optimizers.random_struct_search import Line_searcher1\n",
    "from classes.optimizers.md_simulator1 import MDT_simulator\n",
    "import numpy as np\n",
    "import matplotlib.pyplot as plt"
   ]
  },
  {
   "cell_type": "code",
   "execution_count": 62,
   "metadata": {},
   "outputs": [],
   "source": [
    "class Atom_plotter(Animator):\n",
    "    def __init__(self, default_cols=(\"C0\", \"C1\"), markersize=50, scale_with_mass=False, alpha=1) -> None:\n",
    "        super().__init__(default_cols, markersize, scale_with_mass, alpha)"
   ]
  },
  {
   "cell_type": "code",
   "execution_count": 63,
   "metadata": {},
   "outputs": [
    {
     "ename": "KeyboardInterrupt",
     "evalue": "",
     "output_type": "error",
     "traceback": [
      "\u001b[1;31m---------------------------------------------------------------------------\u001b[0m",
      "\u001b[1;31mKeyboardInterrupt\u001b[0m                         Traceback (most recent call last)",
      "Cell \u001b[1;32mIn[63], line 15\u001b[0m\n\u001b[0;32m     13\u001b[0m \u001b[38;5;28;01mfor\u001b[39;00m j \u001b[38;5;129;01min\u001b[39;00m \u001b[38;5;28mrange\u001b[39m(\u001b[38;5;241m100\u001b[39m):\n\u001b[0;32m     14\u001b[0m     optimizer \u001b[38;5;241m=\u001b[39m Line_searcher1(atom_col\u001b[38;5;241m=\u001b[39mmake_random_conf())\n\u001b[1;32m---> 15\u001b[0m     optimizer\u001b[38;5;241m.\u001b[39mrun(track\u001b[38;5;241m=\u001b[39m\u001b[38;5;28;01mFalse\u001b[39;00m)\n\u001b[0;32m     16\u001b[0m     opt_cols\u001b[38;5;241m.\u001b[39mappend(optimizer\u001b[38;5;241m.\u001b[39mbest_atom_col)\n\u001b[0;32m     17\u001b[0m atom_writer\u001b[38;5;241m.\u001b[39msave_atom_collections(atom_cols\u001b[38;5;241m=\u001b[39mopt_cols, filename\u001b[38;5;241m=\u001b[39m\u001b[38;5;124mf\u001b[39m\u001b[38;5;124m\"\u001b[39m\u001b[38;5;124mrelaxed_structs\u001b[39m\u001b[38;5;132;01m{\u001b[39;00mi\u001b[38;5;132;01m}\u001b[39;00m\u001b[38;5;124m\"\u001b[39m)\n",
      "File \u001b[1;32mc:\\Users\\karst\\Computational-Physics\\Week7\\exercise 38\\../..\\classes\\optimizers\\random_struct_search.py:35\u001b[0m, in \u001b[0;36mLine_searcher1.run\u001b[1;34m(self, N_max, fmax, track)\u001b[0m\n\u001b[0;32m     33\u001b[0m \u001b[38;5;28;01mwhile\u001b[39;00m \u001b[38;5;129;01mnot\u001b[39;00m(converged) \u001b[38;5;129;01mand\u001b[39;00m i \u001b[38;5;241m<\u001b[39m N_max:\n\u001b[0;32m     34\u001b[0m     forces_unit \u001b[38;5;241m=\u001b[39m current_forces\u001b[38;5;241m/\u001b[39mnp\u001b[38;5;241m.\u001b[39mlinalg\u001b[38;5;241m.\u001b[39mnorm(current_forces, axis\u001b[38;5;241m=\u001b[39m\u001b[38;5;241m1\u001b[39m)[:,\u001b[38;5;28;01mNone\u001b[39;00m]\n\u001b[1;32m---> 35\u001b[0m     alpha_opt \u001b[38;5;241m=\u001b[39m fmin(\u001b[38;5;28mself\u001b[39m\u001b[38;5;241m.\u001b[39mE_new, \u001b[38;5;241m0.1\u001b[39m, args\u001b[38;5;241m=\u001b[39m(current_position, forces_unit), disp\u001b[38;5;241m=\u001b[39m\u001b[38;5;28;01mFalse\u001b[39;00m)\n\u001b[0;32m     36\u001b[0m     step_pos \u001b[38;5;241m=\u001b[39m alpha_opt\u001b[38;5;241m*\u001b[39mforces_unit\n\u001b[0;32m     37\u001b[0m     \u001b[38;5;28mself\u001b[39m\u001b[38;5;241m.\u001b[39mmove_atoms(step_pos)\n",
      "File \u001b[1;32mc:\\Users\\karst\\AppData\\Local\\anaconda3\\Lib\\site-packages\\scipy\\optimize\\_optimize.py:695\u001b[0m, in \u001b[0;36mfmin\u001b[1;34m(func, x0, args, xtol, ftol, maxiter, maxfun, full_output, disp, retall, callback, initial_simplex)\u001b[0m\n\u001b[0;32m    586\u001b[0m \u001b[38;5;250m\u001b[39m\u001b[38;5;124;03m\"\"\"\u001b[39;00m\n\u001b[0;32m    587\u001b[0m \u001b[38;5;124;03mMinimize a function using the downhill simplex algorithm.\u001b[39;00m\n\u001b[0;32m    588\u001b[0m \n\u001b[1;32m   (...)\u001b[0m\n\u001b[0;32m    685\u001b[0m \n\u001b[0;32m    686\u001b[0m \u001b[38;5;124;03m\"\"\"\u001b[39;00m\n\u001b[0;32m    687\u001b[0m opts \u001b[38;5;241m=\u001b[39m {\u001b[38;5;124m'\u001b[39m\u001b[38;5;124mxatol\u001b[39m\u001b[38;5;124m'\u001b[39m: xtol,\n\u001b[0;32m    688\u001b[0m         \u001b[38;5;124m'\u001b[39m\u001b[38;5;124mfatol\u001b[39m\u001b[38;5;124m'\u001b[39m: ftol,\n\u001b[0;32m    689\u001b[0m         \u001b[38;5;124m'\u001b[39m\u001b[38;5;124mmaxiter\u001b[39m\u001b[38;5;124m'\u001b[39m: maxiter,\n\u001b[1;32m   (...)\u001b[0m\n\u001b[0;32m    692\u001b[0m         \u001b[38;5;124m'\u001b[39m\u001b[38;5;124mreturn_all\u001b[39m\u001b[38;5;124m'\u001b[39m: retall,\n\u001b[0;32m    693\u001b[0m         \u001b[38;5;124m'\u001b[39m\u001b[38;5;124minitial_simplex\u001b[39m\u001b[38;5;124m'\u001b[39m: initial_simplex}\n\u001b[1;32m--> 695\u001b[0m res \u001b[38;5;241m=\u001b[39m _minimize_neldermead(func, x0, args, callback\u001b[38;5;241m=\u001b[39mcallback, \u001b[38;5;241m*\u001b[39m\u001b[38;5;241m*\u001b[39mopts)\n\u001b[0;32m    696\u001b[0m \u001b[38;5;28;01mif\u001b[39;00m full_output:\n\u001b[0;32m    697\u001b[0m     retlist \u001b[38;5;241m=\u001b[39m res[\u001b[38;5;124m'\u001b[39m\u001b[38;5;124mx\u001b[39m\u001b[38;5;124m'\u001b[39m], res[\u001b[38;5;124m'\u001b[39m\u001b[38;5;124mfun\u001b[39m\u001b[38;5;124m'\u001b[39m], res[\u001b[38;5;124m'\u001b[39m\u001b[38;5;124mnit\u001b[39m\u001b[38;5;124m'\u001b[39m], res[\u001b[38;5;124m'\u001b[39m\u001b[38;5;124mnfev\u001b[39m\u001b[38;5;124m'\u001b[39m], res[\u001b[38;5;124m'\u001b[39m\u001b[38;5;124mstatus\u001b[39m\u001b[38;5;124m'\u001b[39m]\n",
      "File \u001b[1;32mc:\\Users\\karst\\AppData\\Local\\anaconda3\\Lib\\site-packages\\scipy\\optimize\\_optimize.py:870\u001b[0m, in \u001b[0;36m_minimize_neldermead\u001b[1;34m(func, x0, args, callback, maxiter, maxfev, disp, return_all, initial_simplex, xatol, fatol, adaptive, bounds, **unknown_options)\u001b[0m\n\u001b[0;32m    868\u001b[0m \u001b[38;5;28;01mif\u001b[39;00m bounds \u001b[38;5;129;01mis\u001b[39;00m \u001b[38;5;129;01mnot\u001b[39;00m \u001b[38;5;28;01mNone\u001b[39;00m:\n\u001b[0;32m    869\u001b[0m     xr \u001b[38;5;241m=\u001b[39m np\u001b[38;5;241m.\u001b[39mclip(xr, lower_bound, upper_bound)\n\u001b[1;32m--> 870\u001b[0m fxr \u001b[38;5;241m=\u001b[39m func(xr)\n\u001b[0;32m    871\u001b[0m doshrink \u001b[38;5;241m=\u001b[39m \u001b[38;5;241m0\u001b[39m\n\u001b[0;32m    873\u001b[0m \u001b[38;5;28;01mif\u001b[39;00m fxr \u001b[38;5;241m<\u001b[39m fsim[\u001b[38;5;241m0\u001b[39m]:\n",
      "File \u001b[1;32mc:\\Users\\karst\\AppData\\Local\\anaconda3\\Lib\\site-packages\\scipy\\optimize\\_optimize.py:569\u001b[0m, in \u001b[0;36m_wrap_scalar_function_maxfun_validation.<locals>.function_wrapper\u001b[1;34m(x, *wrapper_args)\u001b[0m\n\u001b[0;32m    567\u001b[0m ncalls[\u001b[38;5;241m0\u001b[39m] \u001b[38;5;241m+\u001b[39m\u001b[38;5;241m=\u001b[39m \u001b[38;5;241m1\u001b[39m\n\u001b[0;32m    568\u001b[0m \u001b[38;5;66;03m# A copy of x is sent to the user function (gh13740)\u001b[39;00m\n\u001b[1;32m--> 569\u001b[0m fx \u001b[38;5;241m=\u001b[39m function(np\u001b[38;5;241m.\u001b[39mcopy(x), \u001b[38;5;241m*\u001b[39m(wrapper_args \u001b[38;5;241m+\u001b[39m args))\n\u001b[0;32m    570\u001b[0m \u001b[38;5;66;03m# Ideally, we'd like to a have a true scalar returned from f(x). For\u001b[39;00m\n\u001b[0;32m    571\u001b[0m \u001b[38;5;66;03m# backwards-compatibility, also allow np.array([1.3]),\u001b[39;00m\n\u001b[0;32m    572\u001b[0m \u001b[38;5;66;03m# np.array([[1.3]]) etc.\u001b[39;00m\n\u001b[0;32m    573\u001b[0m \u001b[38;5;28;01mif\u001b[39;00m \u001b[38;5;129;01mnot\u001b[39;00m np\u001b[38;5;241m.\u001b[39misscalar(fx):\n",
      "File \u001b[1;32mc:\\Users\\karst\\Computational-Physics\\Week7\\exercise 38\\../..\\classes\\optimizers\\random_struct_search.py:22\u001b[0m, in \u001b[0;36mLine_searcher1.E_new\u001b[1;34m(self, alpha, current_pos, forces_unit)\u001b[0m\n\u001b[0;32m     20\u001b[0m \u001b[38;5;28;01mdef\u001b[39;00m \u001b[38;5;21mE_new\u001b[39m(\u001b[38;5;28mself\u001b[39m, alpha, current_pos, forces_unit):\n\u001b[0;32m     21\u001b[0m     pos_step \u001b[38;5;241m=\u001b[39m alpha\u001b[38;5;241m*\u001b[39mforces_unit\n\u001b[1;32m---> 22\u001b[0m     new_pos \u001b[38;5;241m=\u001b[39m \u001b[38;5;28mself\u001b[39m\u001b[38;5;241m.\u001b[39matom_col\u001b[38;5;241m.\u001b[39mpbc_handler\u001b[38;5;241m.\u001b[39mrestrict_positions(current_pos\u001b[38;5;241m+\u001b[39mpos_step)\n\u001b[0;32m     23\u001b[0m     r \u001b[38;5;241m=\u001b[39m \u001b[38;5;28mself\u001b[39m\u001b[38;5;241m.\u001b[39matom_col\u001b[38;5;241m.\u001b[39mpbc_handler\u001b[38;5;241m.\u001b[39mget_periodic_dist(new_pos)\n\u001b[0;32m     24\u001b[0m     \u001b[38;5;66;03m#r = pdist(current_pos+pos_step)\u001b[39;00m\n",
      "File \u001b[1;32mc:\\Users\\karst\\Computational-Physics\\Week7\\exercise 38\\../..\\classes\\atom_classes\\pbc_handler.py:43\u001b[0m, in \u001b[0;36mPBC_handler.restrict_positions\u001b[1;34m(self, atom_pos)\u001b[0m\n\u001b[0;32m     41\u001b[0m \u001b[38;5;28;01mfor\u001b[39;00m i, d \u001b[38;5;129;01min\u001b[39;00m \u001b[38;5;28menumerate\u001b[39m([\u001b[38;5;28mself\u001b[39m\u001b[38;5;241m.\u001b[39md1_trans, \u001b[38;5;28mself\u001b[39m\u001b[38;5;241m.\u001b[39md2_trans]):\n\u001b[0;32m     42\u001b[0m     res_coord_big \u001b[38;5;241m=\u001b[39m (projected_pos[:,i] \u001b[38;5;241m>\u001b[39m d)\u001b[38;5;241m.\u001b[39mastype(\u001b[38;5;28mint\u001b[39m)\u001b[38;5;241m*\u001b[39m(\u001b[38;5;241m-\u001b[39md)\n\u001b[1;32m---> 43\u001b[0m     res_coord_less \u001b[38;5;241m=\u001b[39m (projected_pos[:,i] \u001b[38;5;241m<\u001b[39m\u001b[38;5;241m=\u001b[39m \u001b[38;5;241m0.0\u001b[39m)\u001b[38;5;241m.\u001b[39mastype(\u001b[38;5;28mint\u001b[39m)\u001b[38;5;241m*\u001b[39m(d) \u001b[38;5;66;03m#PERHAPS ADD SUCH THAT THE UNITCELL CAN HAVE ARBITRARY ORIGIN\u001b[39;00m\n\u001b[0;32m     44\u001b[0m     projected_pos[:,i]\u001b[38;5;241m+\u001b[39m\u001b[38;5;241m=\u001b[39mres_coord_big\u001b[38;5;241m+\u001b[39mres_coord_less\n\u001b[0;32m     45\u001b[0m \u001b[38;5;28;01mreturn\u001b[39;00m \u001b[38;5;28mself\u001b[39m\u001b[38;5;241m.\u001b[39mproject_back(projected_pos)\n",
      "\u001b[1;31mKeyboardInterrupt\u001b[0m: "
     ]
    }
   ],
   "source": [
    "def make_random_conf(N_atoms=12, unit_cell=(np.array([10.0,0.0]), np.array([0.0,10.0])), pbc=True):\n",
    "    random_poses = np.random.randn(N_atoms,2)+ (5,5) #np.random.rand(N_atoms, 2)*np.linalg.norm(unit_cell[0])\n",
    "    atomlist = [Atom(position=pos) for pos in random_poses]\n",
    "    atom_col = Atom_Collection(atomlist=atomlist, unit_cell=unit_cell, pbc=pbc)\n",
    "    atom_col.calculator = LJGauss()\n",
    "    return atom_col\n",
    "\n",
    "atom_writer = Atom_File_handler()\n",
    "\n",
    "opt_cols = []\n",
    "for i in range(2):\n",
    "    opt_cols =  []\n",
    "    for j in range(100):\n",
    "        optimizer = Line_searcher1(atom_col=make_random_conf())\n",
    "        optimizer.run(track=False)\n",
    "        opt_cols.append(optimizer.best_atom_col)\n",
    "    atom_writer.save_atom_collections(atom_cols=opt_cols, filename=f\"relaxed_structs{i}\")\n",
    "    "
   ]
  },
  {
   "cell_type": "code",
   "execution_count": null,
   "metadata": {},
   "outputs": [],
   "source": [
    "class MD_optimizer():\n",
    "    def __init__(self) -> None:\n",
    "        pass"
   ]
  },
  {
   "cell_type": "code",
   "execution_count": 80,
   "metadata": {},
   "outputs": [
    {
     "data": {
      "text/plain": [
       "Text(0.5, 1.0, '-2.189')"
      ]
     },
     "execution_count": 80,
     "metadata": {},
     "output_type": "execute_result"
    },
    {
     "data": {
      "image/png": "[encoded data removed]",
      "text/plain": [
       "<Figure size 640x480 with 1 Axes>"
      ]
     },
     "metadata": {},
     "output_type": "display_data"
    }
   ],
   "source": [
    "fig, ax = plt.subplots()\n",
    "ax.set_aspect(\"equal\")\n",
    "#ax.set_xlim([-2.0, 12.0])\n",
    "#ax.set_ylim([-2.0, 12.0])\n",
    "\n",
    "optimizer = MDT_simulator(atom_col=make_random_conf(), temp=0.05)\n",
    "for temp in [2.0, 1.0, 0.5, 0.05]:\n",
    "    optimizer.temp = temp\n",
    "    optimizer.run_MDsimulation(N_steps=10)\n",
    "optimizer = Line_searcher1(atom_col=optimizer.logged_atom_cols[-1])\n",
    "optimizer.run(N_max=0)\n",
    "atom_plotter = Atom_plotter(markersize=15)\n",
    "atom_plotter(optimizer.best_atom_col, ax=ax)\n",
    "optimizer.best_atom_col.reset_plot_axes()\n",
    "ax.set_title(round(optimizer.best_atom_col.get_potential_energy(),3))"
   ]
  },
  {
   "cell_type": "code",
   "execution_count": null,
   "metadata": {},
   "outputs": [],
   "source": []
  },
  {
   "cell_type": "code",
   "execution_count": null,
   "metadata": {},
   "outputs": [],
   "source": []
  },
  {
   "cell_type": "code",
   "execution_count": null,
   "metadata": {},
   "outputs": [],
   "source": []
  }
 ],
 "metadata": {
  "kernelspec": {
   "display_name": "base",
   "language": "python",
   "name": "python3"
  },
  "language_info": {
   "codemirror_mode": {
    "name": "ipython",
    "version": 3
   },
   "file_extension": ".py",
   "mimetype": "text/x-python",
   "name": "python",
   "nbconvert_exporter": "python",
   "pygments_lexer": "ipython3",
   "version": "3.11.3"
  }
 },
 "nbformat": 4,
 "nbformat_minor": 2
}
